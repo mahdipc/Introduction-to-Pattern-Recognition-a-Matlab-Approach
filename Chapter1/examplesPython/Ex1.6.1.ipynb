{
 "cells": [
  {
   "cell_type": "markdown",
   "metadata": {},
   "source": [
    "تمرین1.6.2 \n"
   ]
  },
  {
   "cell_type": "code",
   "execution_count": 1,
   "metadata": {},
   "outputs": [],
   "source": [
    "import numpy as np\n",
    "import pandas as pd\n",
    "from sklearn.mixture import GaussianMixture\n",
    "from sklearn.covariance import EmpiricalCovariance\n",
    "from scipy.spatial import distance\n",
    "from scipy.stats import multivariate_normal\n",
    "from sklearn.metrics import accuracy_score\n",
    "import matplotlib.pyplot as plt\n",
    "from sklearn.mixture import BayesianGaussianMixture"
   ]
  },
  {
   "cell_type": "code",
   "execution_count": 2,
   "metadata": {},
   "outputs": [],
   "source": [
    "I=np.identity(2, dtype = float)\n",
    "\n",
    "def mixt_model(m,S,P,N):\n",
    "    l,c=m.shape\n",
    "    P_acc=[P[0]]\n",
    "    for i in range(1,c):\n",
    "        t=P_acc[i-1]+P[i]\n",
    "        P_acc.append(t)\n",
    "    \n",
    "    X=[]\n",
    "    y=[]\n",
    "    P_acc=np.array(P_acc)\n",
    "\n",
    "    for i in range(N):\n",
    "        t=np.random.rand()\n",
    "        ind=np.sum(t>P_acc)\n",
    "        X.append(np.random.multivariate_normal(m[:,ind],S[:,:,ind]))\n",
    "        y.append(ind+1)\n",
    "    return np.array(X).T,np.array(y)\n",
    "\n",
    "def modelGenrealMix(m_init,s_init,weight):\n",
    "    d=[]\n",
    "    for i in range(len(m_init)):\n",
    "        d.append(MultivariateGaussianDistribution(m_init[i],s_init[:,:,i]))\n",
    "    model = GeneralMixtureModel(d, weights=weight)\n",
    "    return model\n",
    "\n",
    "def gauss(x,m,s):\n",
    "    J,l=m.shape\n",
    "    p=x.shape\n",
    "    z=[]\n",
    "    for j in range(J):\n",
    "        t=(x-m[j,:]).dot(x-m[j,:]).T\n",
    "        c=1/(2*np.pi*s[j])**(1/2)\n",
    "        z.append(c*np.exp(-t/2*s[j]))\n",
    "    return np.array(z)\n",
    "\n",
    "def em_alg_function(x,m,s,Pa,e_min):\n",
    "    x=np.array(x)\n",
    "    m=np.array(m).T\n",
    "    p,n=x.shape\n",
    "    J,n=m.shape\n",
    "    e=e_min+1\n",
    "    Q_tot=[]\n",
    "    e_tot=[]\n",
    "    iter=0\n",
    "    \n",
    "    while (e>e_min):\n",
    "        iter=iter+1\n",
    "        P_old=Pa\n",
    "        m_old=m\n",
    "        s_old=s\n",
    "        P=np.zeros([J,p])\n",
    "        for k in range(p):\n",
    "            temp=gauss(x[k,:],m,s)\n",
    "            P_tot=temp.dot(Pa.T)\n",
    "            for j in range(J):\n",
    "                P[j,k]=temp[j]*Pa[j]/P_tot\n",
    "        Q=0\n",
    "        for k in range(p):\n",
    "            for j in range(J):\n",
    "                Q=Q+P[j,k]*(-(n/2)*np.log(2*np.pi*s[j])-np.sum((x[k,:]-m[j,:])**2)/(2*s[j])+np.log(Pa[j]))\n",
    "        Q_tot.append(Q)\n",
    "\n",
    "        for j in range(J):\n",
    "            a=np.zeros([1,n])\n",
    "            for k in range(p):\n",
    "                a=a+P[j,k]*x[k,:]\n",
    "            m[j,:]=a/np.sum(P[j,:])\n",
    "        \n",
    "        for j in range(J):\n",
    "            b=0\n",
    "            for k in range(p):\n",
    "                b=b+P[j,k]*((x[k,:]-m[j,:]).dot((x[k,:]-m[j,:]).T))\n",
    "            \n",
    "            s[j]=b/(n*np.sum(P[j,:]))\n",
    "            if s[j]<10**(-10):\n",
    "                s[j]=0.001\n",
    "        \n",
    "        #Determine the a priori probabilities\n",
    "        for j in range(J):\n",
    "            a=0\n",
    "            for k in range(p):\n",
    "                a=a+P[j,k]\n",
    "            Pa[j]=a/p\n",
    "        \n",
    "        e=np.sum(np.abs(Pa-P_old))+np.sum(np.sum(np.abs(m-m_old)))+np.sum(np.abs(s-s_old))\n",
    "        e_tot.append(e)\n",
    "\n",
    "    return [m,s,Pa,iter,Q_tot,e_tot]\n",
    "\n",
    "def EM_pdf_est(X,y,m_ini,s_ini,P_ini):\n",
    "    l,N=X.shape\n",
    "    e_min=10**(-5)\n",
    "    cl=int(np.max(y))\n",
    "    acc_tot=[]\n",
    "    Xs=[]\n",
    "    for j in range(cl):\n",
    "        temp=[]\n",
    "        t=0\n",
    "        for i in range(N):\n",
    "            if(y[i]==j+1):\n",
    "                temp.append(X[:,i])\n",
    "                t=t+1\n",
    "        acc_tot.append(t)\n",
    "        Xs.append(temp)\n",
    "    P_cl=np.array(acc_tot)/N\n",
    "    m=[]\n",
    "    s=[]\n",
    "    P=[]\n",
    "    for j in range(cl):\n",
    "        [mj,sj,Pj,iter1,Q_tot,e_tot]=em_alg_function(Xs[j],m_ini[j],s_ini[j],P_ini[j],e_min)\n",
    "        m.append(mj)\n",
    "        s.append(sj)\n",
    "        P.append(Pj)\n",
    "\n",
    "    return [m,s,P,P_cl]\n",
    "\n",
    "def mixt_value(m,S,P,X):\n",
    "    l=X.shape\n",
    "    N=1\n",
    "    m=m.T\n",
    "    l,c=m.shape\n",
    "    y=[]\n",
    "    for i in range(N):\n",
    "        temp=[]\n",
    "        for j in range(c):\n",
    "            t=multivariate_normal.pdf(X[:], mean=m[:,j], cov=S[:,:,j])\n",
    "            temp.append(t)\n",
    "        y_temp=np.sum(P*np.array(temp))\n",
    "        y.append(y_temp+1)\n",
    "    return y[0]\n",
    "\n",
    "def mixture_Bayes(m,S,P,P_cl,X):\n",
    "    cl=len(m)\n",
    "    l,N=X.shape\n",
    "    y=[]\n",
    "    for i in range(N):\n",
    "        temp=[]\n",
    "        for j in range(cl):\n",
    "            t=mixt_value(m[j],S[j],P[j],X[:,i])\n",
    "            temp.append(t)\n",
    "        temp=P_cl*temp\n",
    "        q1=np.max(temp)\n",
    "        q2=np.argmax(temp)\n",
    "        y.append(q2+1)\n",
    "    return y\n",
    "\n",
    "def cls_error(m_ini,S_ini,w_ini):\n",
    "    [m_hat,S_hat,w_hat,P_hat]=EM_pdf_est(np.concatenate([X1,X2],1),np.concatenate([np.ones([500]),2*np.ones([500])]),m_ini,S_ini,w_ini)\n",
    "    # 2. Use function mixture_Bayes to classify the data vectors of Z and function compute_error to % obtain the classification error.\n",
    "    S=[]\n",
    "    for j in range(2):\n",
    "        le=len(S_hat[j])\n",
    "        te=np.zeros((2,2,le))\n",
    "        for i in range(le):\n",
    "            te[:,:,i]=S_hat[j][i]*np.eye(2)\n",
    "        S.append(te)\n",
    "\n",
    "    y_est=mixture_Bayes(m_hat,S,w_hat,P_hat,Z)\n",
    "    y_est=np.array(y_est)\n",
    "\n",
    "    real_label=np.concatenate([np.ones([500]),2*np.ones([500])])\n",
    "    classification_error=np.abs(np.sum(y_est-real_label))/1000\n",
    "    print(classification_error)"
   ]
  },
  {
   "cell_type": "markdown",
   "metadata": {},
   "source": [
    "Generate the subset X1 of X, which contains the data points from the first class"
   ]
  },
  {
   "cell_type": "code",
   "execution_count": 17,
   "metadata": {},
   "outputs": [],
   "source": [
    "m1=np.array([[1.25,1.25], [2.75,2.75], [2,6]]).T\n",
    "S1=np.transpose(np.array([0.1*I,0.2*I,0.3*I]),[2,1,0])\n",
    "P1=[0.4, 0.4,0.2]\n",
    "N1=500\n",
    "X1,y1=mixt_model(m1,S1,P1,N1)"
   ]
  },
  {
   "cell_type": "markdown",
   "metadata": {},
   "source": [
    "The subset X2 of X, with the points from the second class is generated similarly\n"
   ]
  },
  {
   "cell_type": "code",
   "execution_count": 18,
   "metadata": {},
   "outputs": [],
   "source": [
    "m2=np.array([[1.25, 2.75], [2.75 ,1.25], [4 ,6]]).T\n",
    "S2=np.transpose(np.array([0.1*I,0.2*I,0.3*I]),[2,1,0])\n",
    "P2=[0.2, 0.3,0.5]\n",
    "N2=500\n",
    "X2,y2=mixt_model(m2,S2,P2,N2)"
   ]
  },
  {
   "cell_type": "markdown",
   "metadata": {},
   "source": [
    "Dataset Z is generated in two steps,i.e., 500 points are first generated from "
   ]
  },
  {
   "cell_type": "code",
   "execution_count": 19,
   "metadata": {},
   "outputs": [],
   "source": [
    "mZ1=np.array([[1.25,1.25], [2.75,2.75], [2,6]]).T\n",
    "SZ1=np.transpose(np.array([0.1*I,0.2*I,0.3*I]),[2,1,0])\n",
    "PZ1=[0.4, 0.4,0.2]\n",
    "NZ1=500\n",
    "Z1,yZ1=mixt_model(mZ1,SZ1,PZ1,NZ1)\n",
    "\n",
    "mZ2=np.array([[1.25, 2.75], [2.75 ,1.25], [4 ,6]]).T\n",
    "SZ2=np.transpose(np.array([0.1*I,0.2*I,0.3*I]),[2,1,0])\n",
    "PZ2=[0.2, 0.3,0.5]\n",
    "NZ2=500\n",
    "Z2,yZ2=mixt_model(mZ2,SZ2,PZ2,NZ2)\n",
    "\n",
    "Z=np.concatenate([Z1,Z2],1)"
   ]
  },
  {
   "cell_type": "markdown",
   "metadata": {},
   "source": [
    "1. Estimate the Gaussian mixture model of each class"
   ]
  },
  {
   "cell_type": "code",
   "execution_count": 20,
   "metadata": {},
   "outputs": [
    {
     "name": "stdout",
     "output_type": "stream",
     "text": [
      "0.128\n"
     ]
    }
   ],
   "source": [
    "#part 1\n",
    "\n",
    "m1_ini =np.array([[5, 5],[5.5,5.5],[5, 5]]).T\n",
    "S1_ini=np.array([.2,0.4,0.3])\n",
    "w1_ini=np.array([.2, .4, .4])\n",
    "\n",
    "m2_ini=np.array([[2, 2],[1.98,1.98],[2.4,2.4]]).T\n",
    "S2_ini=np.array([.06,0.05,0.4])\n",
    "w2_ini=np.array([.8, .1, .1])\n",
    "\n",
    "m_ini=[m1_ini,m2_ini]\n",
    "S_ini=[S1_ini,S2_ini]\n",
    "w_ini=[w1_ini,w2_ini]\n",
    "\n",
    "\n",
    "cls_error(m_ini,S_ini,w_ini)"
   ]
  },
  {
   "cell_type": "code",
   "execution_count": 21,
   "metadata": {},
   "outputs": [
    {
     "name": "stdout",
     "output_type": "stream",
     "text": [
      "0.127\n"
     ]
    }
   ],
   "source": [
    "#part 2\n",
    "\n",
    "m1_ini =np.array([[1.6, 1.4],[1.4,1.6],[1.3, 1.5]]).T\n",
    "S1_ini=np.array([.2,0.4,0.3])\n",
    "w1_ini=np.array([.2, .4, .4])\n",
    "\n",
    "m2_ini=np.array([[1.5, 1.7],[1.7, 1.5],[1.6, 1.6]]).T\n",
    "S2_ini=np.array([.6,0.05,0.02])\n",
    "w2_ini=np.array([.1, .8, .1])\n",
    "\n",
    "m_ini=[m1_ini,m2_ini]\n",
    "S_ini=[S1_ini,S2_ini]\n",
    "w_ini=[w1_ini,w2_ini]\n",
    "\n",
    "\n",
    "cls_error(m_ini,S_ini,w_ini)"
   ]
  },
  {
   "cell_type": "code",
   "execution_count": 22,
   "metadata": {},
   "outputs": [
    {
     "name": "stdout",
     "output_type": "stream",
     "text": [
      "0.077\n"
     ]
    }
   ],
   "source": [
    "#part 3\n",
    "\n",
    "m1_ini =np.array([[0, 2],[5, 2],[5, 5],[3,4] ]).T\n",
    "S1_ini=np.array([.15,0.27,0.4, .2])\n",
    "w1_ini=np.array([1/4, 1/4, 1/4, 1/4 ])\n",
    "\n",
    "m2_ini=np.array([[1, 2],[3.2, 1.5],[1, 4],[4,2] ]).T\n",
    "S2_ini=np.array([.15,0.08,0.27,.05])\n",
    "w2_ini=np.array([1/4, 1/4, 1/4, 1/4 ])\n",
    "\n",
    "m_ini=[m1_ini,m2_ini]\n",
    "S_ini=[S1_ini,S2_ini]\n",
    "w_ini=[w1_ini,w2_ini]\n",
    "\n",
    "\n",
    "cls_error(m_ini,S_ini,w_ini)"
   ]
  },
  {
   "cell_type": "code",
   "execution_count": 23,
   "metadata": {},
   "outputs": [
    {
     "name": "stdout",
     "output_type": "stream",
     "text": [
      "0.011\n"
     ]
    }
   ],
   "source": [
    "#part 4\n",
    "\n",
    "m1_ini =np.array([[0, 2],[5, 2]]).T\n",
    "S1_ini=np.array([.15,.27])\n",
    "w1_ini=np.array([1/2,1/2])\n",
    "\n",
    "m2_ini=np.array([[1, 2]]).T\n",
    "S2_ini=np.array([.15])\n",
    "w2_ini=np.array([1])\n",
    "\n",
    "m_ini=[m1_ini,m2_ini]\n",
    "S_ini=[S1_ini,S2_ini]\n",
    "w_ini=[w1_ini,w2_ini]\n",
    "\n",
    "\n",
    "cls_error(m_ini,S_ini,w_ini)"
   ]
  },
  {
   "cell_type": "code",
   "execution_count": 24,
   "metadata": {},
   "outputs": [
    {
     "name": "stdout",
     "output_type": "stream",
     "text": [
      "0.091\n"
     ]
    }
   ],
   "source": [
    "#part 5\n",
    "\n",
    "m1_ini =np.array([[2, 2]]).T\n",
    "S1_ini=np.array([0.4])\n",
    "w1_ini=np.array([1])\n",
    "\n",
    "m2_ini=np.array([[1, 2]]).T\n",
    "S2_ini=np.array([.15])\n",
    "w2_ini=np.array([1])\n",
    "\n",
    "m_ini=[m1_ini,m2_ini]\n",
    "S_ini=[S1_ini,S2_ini]\n",
    "w_ini=[w1_ini,w2_ini]\n",
    "\n",
    "\n",
    "cls_error(m_ini,S_ini,w_ini)"
   ]
  },
  {
   "cell_type": "code",
   "execution_count": null,
   "metadata": {},
   "outputs": [],
   "source": []
  }
 ],
 "metadata": {
  "interpreter": {
   "hash": "d4b490f064f659635f7ce233fe9f962f49a5789134c76024fdc1e2f02ce724ed"
  },
  "kernelspec": {
   "display_name": "Python 3",
   "language": "python",
   "name": "python3"
  },
  "language_info": {
   "codemirror_mode": {
    "name": "ipython",
    "version": 3
   },
   "file_extension": ".py",
   "mimetype": "text/x-python",
   "name": "python",
   "nbconvert_exporter": "python",
   "pygments_lexer": "ipython3",
   "version": "3.7.9"
  }
 },
 "nbformat": 4,
 "nbformat_minor": 2
}
