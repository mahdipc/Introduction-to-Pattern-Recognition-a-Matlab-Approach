{
 "cells": [
  {
   "cell_type": "markdown",
   "metadata": {},
   "source": [
    "تمرین1.4.1\n",
    "هر چه تعداد نمونه ها بیشتر باشد تقریب بهتری از پارامتر های تابع به دست می آید."
   ]
  },
  {
   "cell_type": "code",
   "execution_count": 1,
   "metadata": {},
   "outputs": [],
   "source": [
    "import numpy as np \n",
    "import pandas as pd"
   ]
  },
  {
   "cell_type": "code",
   "execution_count": 2,
   "metadata": {},
   "outputs": [
    {
     "name": "stdout",
     "output_type": "stream",
     "text": [
      "500 sample:\n",
      " estimated mean: \n",
      "  [ 2.02687316 -1.95504585] \n",
      "estimated cov matrix:\n",
      " [[0.91853637 0.2204553 ]\n",
      " [0.2204553  3.09456267]]\n",
      "5000 sample:\n",
      " estimated mean: \n",
      "  [ 1.98845528 -2.00686086] \n",
      "estimated cov matrix:\n",
      " [[0.92249933 0.20935764]\n",
      " [0.20935764 3.02663926]]\n"
     ]
    }
   ],
   "source": [
    "mean = [2, -2]\n",
    "cov = [[.9, .2], [.2, 3]]\n",
    "X = np.random.multivariate_normal(mean, cov, 500)\n",
    "Y = np.random.multivariate_normal(mean, cov, 5000)\n",
    "\n",
    "def gaussian_mle(data):                                                                                                                                                                               \n",
    "    mu = data.mean(axis=0)                                                                                                                                                                            \n",
    "    var = (data-mu).T @ (data-mu) / data.shape[0] \n",
    "\n",
    "    return mu, var  \n",
    "\n",
    "muX,varX = gaussian_mle(X)\n",
    "muY,varY = gaussian_mle(Y)\n",
    "print(\"500 sample:\\n estimated mean: \\n \",muX,\"\\nestimated cov matrix:\\n\",varX)\n",
    "print(\"5000 sample:\\n estimated mean: \\n \",muY,\"\\nestimated cov matrix:\\n\",varY)\n"
   ]
  },
  {
   "cell_type": "code",
   "execution_count": null,
   "metadata": {},
   "outputs": [],
   "source": []
  }
 ],
 "metadata": {
  "interpreter": {
   "hash": "9ec957caba7ae6ccc97a7fb0804bf14cbdb1f70a4904cd45a06dd27fe16a3b19"
  },
  "kernelspec": {
   "display_name": "Python 3",
   "language": "python",
   "name": "python3"
  },
  "language_info": {
   "codemirror_mode": {
    "name": "ipython",
    "version": 3
   },
   "file_extension": ".py",
   "mimetype": "text/x-python",
   "name": "python",
   "nbconvert_exporter": "python",
   "pygments_lexer": "ipython3",
   "version": "3.7.9"
  }
 },
 "nbformat": 4,
 "nbformat_minor": 2
}
