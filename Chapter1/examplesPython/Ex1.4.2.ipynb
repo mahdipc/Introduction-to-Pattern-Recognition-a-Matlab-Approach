{
 "cells": [
  {
   "cell_type": "markdown",
   "metadata": {},
   "source": [
    "تمرین 1.4.2\n"
   ]
  },
  {
   "cell_type": "code",
   "execution_count": 1,
   "metadata": {},
   "outputs": [],
   "source": [
    "import numpy as np \n",
    "import pandas as pd\n",
    "from sklearn.mixture import GaussianMixture\n",
    "from sklearn.covariance import EmpiricalCovariance\n",
    "from scipy.spatial import distance\n",
    "from scipy.stats import multivariate_normal\n",
    "from sklearn.metrics import accuracy_score"
   ]
  },
  {
   "cell_type": "code",
   "execution_count": 2,
   "metadata": {},
   "outputs": [],
   "source": [
    "def generate_gauss_classes(m,S,P,N):\n",
    "    j=np.random.choice(len(m), 1, p=P)\n",
    "    X_data =np.random.multivariate_normal(m[j[0],:], S ,1).T\n",
    "    Y_data =j[0]\n",
    "    for i in range (1,N):\n",
    "        j=np.random.choice(len(m), 1, p=P)\n",
    "        X_data =np.append(X_data, np.random.multivariate_normal(m[j[0],:], S ,1).T,axis = 1)\n",
    "        Y_data =np.append(Y_data,j[0])\n",
    "    return X_data,Y_data\n",
    "\n",
    "\n",
    "def gaussian_mle(data):                                                                                                                                                                               \n",
    "    mu = data.mean(axis=0)                                                                                                                                                                            \n",
    "    var = (data-mu).T @ (data-mu) / data.shape[0] \n",
    "\n",
    "    return mu, var  \n",
    "    \n",
    "m=np.array([[0, 0, 0], [1 ,2, 2],[ 3, 3, 4]])\n",
    "S=np.array([[0.8, 0.2, 0.1],[0.2, 0.8, 0.2],[0.1, 0.2, 0.8]])\n",
    "P=np.array( [1/3, 1/3 , 1/3])\n",
    "N=1000\n",
    "\n",
    "# rows = len(mat)\n",
    "[x_train,y_train]=generate_gauss_classes(m,S,P,N)\n",
    "[x_test,y_test]=generate_gauss_classes(m,S,P,N)\n",
    "\n"
   ]
  },
  {
   "cell_type": "markdown",
   "metadata": {},
   "source": [
    "Step 1. computing the ML estimates of the mean values and covariance matrix (common to all three\n",
    "classes)"
   ]
  },
  {
   "cell_type": "code",
   "execution_count": 3,
   "metadata": {},
   "outputs": [
    {
     "name": "stdout",
     "output_type": "stream",
     "text": [
      "(3, 326) (3, 361) (3, 313)\n"
     ]
    }
   ],
   "source": [
    "class1 =x_train[:, np.where(y_train == 0)[0]]\n",
    "class2 =x_train[:,np.where(y_train == 1)[0]]\n",
    "class3 =x_train[:, np.where(y_train == 2)[0]]\n",
    "\n",
    "\n",
    "mu1,var1 = gaussian_mle(class1.T)\n",
    "mu2,var2 = gaussian_mle(class2.T)\n",
    "mu3,var3 = gaussian_mle(class3.T)\n",
    "\n",
    "S_hat=np.array((1/3)*(var1+var2+var3))\n",
    "m_hat=np.array([mu1, mu2, mu3])\n",
    "print(class1.shape,class2.shape,class3.shape)\n",
    "# class1.shape"
   ]
  },
  {
   "cell_type": "markdown",
   "metadata": {},
   "source": [
    "Step 2. Euclidean distance classifier"
   ]
  },
  {
   "cell_type": "code",
   "execution_count": 4,
   "metadata": {},
   "outputs": [],
   "source": [
    "def euc_dist(a,b):\n",
    "    return  np.sqrt(np.sum(np.square(a-b)))\n",
    "\n",
    "def euclidean_classifier(means,data):\n",
    "    y_hat =np.zeros(len(data[0]))\n",
    "    for i in range(len(data[0])):\n",
    "        arr = [euc_dist(data[:,i],means.T[:,j]) for j in range(len(means.T))]\n",
    "        y_hat[i]=np.argmin(arr)\n",
    "    return y_hat\n",
    "z_euclidean=euclidean_classifier(m_hat,x_test)\n"
   ]
  },
  {
   "cell_type": "markdown",
   "metadata": {},
   "source": [
    "step3:Mahalanobis distance classifier"
   ]
  },
  {
   "cell_type": "code",
   "execution_count": 5,
   "metadata": {},
   "outputs": [],
   "source": [
    "\n",
    "def mahalanobis_classifier(means,cov,data):\n",
    "    VI=np.linalg.inv(cov)\n",
    "    y_hat =np.zeros(len(data[0]))\n",
    "    for i in range(len(data[0])):\n",
    "        arr = [distance.mahalanobis(data[:,i],means.T[:,j], VI) for j in range(len(means.T))]\n",
    "        y_hat[i]=np.argmin(arr)\n",
    "    return y_hat\n",
    "z_mahalanobis=mahalanobis_classifier(m_hat,S_hat,x_test)\n"
   ]
  },
  {
   "cell_type": "markdown",
   "metadata": {},
   "source": [
    "Step 4. "
   ]
  },
  {
   "cell_type": "code",
   "execution_count": 6,
   "metadata": {},
   "outputs": [],
   "source": [
    "def bayes_classifier(means,cov,P,data):\n",
    "    y_hat =np.zeros(len(data[0]))\n",
    "    for i in range (len(data[0])):\n",
    "        arr=[P[j]*multivariate_normal.pdf( data[:,i] , means.T[:,j], cov ) for j in range(len(means.T))]\n",
    "        y_hat[i]=np.argmax(arr)\n",
    "    return y_hat\n",
    "z_bayesian=bayes_classifier(m,S,P,x_test)\n"
   ]
  },
  {
   "cell_type": "markdown",
   "metadata": {},
   "source": [
    "step5"
   ]
  },
  {
   "cell_type": "code",
   "execution_count": 7,
   "metadata": {},
   "outputs": [
    {
     "name": "stdout",
     "output_type": "stream",
     "text": [
      "euclidian erroe is:0.079\n",
      "   mahalanobis error is:0.089\n",
      "   bayesian error is:0.091\n"
     ]
    }
   ],
   "source": [
    "\n",
    "err_euclidean = np.mean(y_test != z_euclidean)\n",
    "err_mahalanobis =np.mean(y_test!=z_mahalanobis)\n",
    "err_bayesian = np.mean(y_test!= z_bayesian)\n",
    "print(\"euclidian erroe is:{}\\n   mahalanobis error is:{}\\n   bayesian error is:{}\".format(err_euclidean, err_mahalanobis,err_bayesian))\n"
   ]
  },
  {
   "cell_type": "code",
   "execution_count": null,
   "metadata": {},
   "outputs": [],
   "source": []
  }
 ],
 "metadata": {
  "interpreter": {
   "hash": "9ec957caba7ae6ccc97a7fb0804bf14cbdb1f70a4904cd45a06dd27fe16a3b19"
  },
  "kernelspec": {
   "display_name": "Python 3",
   "language": "python",
   "name": "python3"
  },
  "language_info": {
   "codemirror_mode": {
    "name": "ipython",
    "version": 3
   },
   "file_extension": ".py",
   "mimetype": "text/x-python",
   "name": "python",
   "nbconvert_exporter": "python",
   "pygments_lexer": "ipython3",
   "version": "3.7.9"
  }
 },
 "nbformat": 4,
 "nbformat_minor": 2
}
